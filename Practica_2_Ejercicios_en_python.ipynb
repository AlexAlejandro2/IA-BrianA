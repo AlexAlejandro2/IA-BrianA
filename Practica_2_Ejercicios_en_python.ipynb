{
  "nbformat": 4,
  "nbformat_minor": 0,
  "metadata": {
    "colab": {
      "provenance": [],
      "authorship_tag": "ABX9TyNnB4x58qsdf/fHVS8v8fq8",
      "include_colab_link": true
    },
    "kernelspec": {
      "name": "python3",
      "display_name": "Python 3"
    },
    "language_info": {
      "name": "python"
    }
  },
  "cells": [
    {
      "cell_type": "markdown",
      "metadata": {
        "id": "view-in-github",
        "colab_type": "text"
      },
      "source": [
        "<a href=\"https://colab.research.google.com/github/AlexAlejandro2/IA-BrianA/blob/main/Practica_2_Ejercicios_en_python.ipynb\" target=\"_parent\"><img src=\"https://colab.research.google.com/assets/colab-badge.svg\" alt=\"Open In Colab\"/></a>"
      ]
    },
    {
      "cell_type": "markdown",
      "source": [
        "#Primer ejercicio\n",
        "Un taller automotriz necesita llevar un control de su inventario de repuestos. Crea un programa que permita agregar, eliminar y consultar la cantidad de repuestos disponibles, así como realizar una compra cuando el inventario de un repuesto está bajo."
      ],
      "metadata": {
        "id": "ALU5y8oTApWJ"
      }
    },
    {
      "cell_type": "markdown",
      "source": [
        "1.- Se crea un contenedor donde se alamcenaran todos los datos ingresados  \n",
        "2.- Se define una funcion del menu  \n",
        "3.- Mostrara todo el menu con print"
      ],
      "metadata": {
        "id": "87WopsUT9Yya"
      }
    },
    {
      "cell_type": "code",
      "source": [
        "inventario = {}\n",
        "\n",
        "def mostrar_menu():\n",
        "    print(\"\\n--- Menú de Inventario del Taller ---\")\n",
        "    print(\"1. Agregar/Actualizar repuesto\")\n",
        "    print(\"2. Disminuir cantidad de repuesto\")\n",
        "    print(\"3. Consultar repuestos\")\n",
        "    print(\"4. Realizar compra de repuesto\")\n",
        "    print(\"5. Salir\")"
      ],
      "metadata": {
        "id": "sHYpaGtF8fPj"
      },
      "execution_count": 4,
      "outputs": []
    },
    {
      "cell_type": "markdown",
      "source": [
        "1.- Se añade una funcion par apoder agregar datos, asi como las unidades que quieres agregar\n",
        "Cosas que aprendi:   \n",
        "1.- capitalize() - Su funcion es cuando damos una entrada de tipo str la primera letra la pone mayuscula y el resto en minuscula para mantener un orden   \n",
        "2.- f - La f al inicio de un print es de f-string que pasa las variables para msotrarlas en cadena   \n",
        "3.- Los if ayudan a llevar un control y a crear filtros\n"
      ],
      "metadata": {
        "id": "FXQ2ba5P9uyp"
      }
    },
    {
      "cell_type": "code",
      "source": [
        "def agregar_repuesto():\n",
        "    repuesto = input(\"Introduce el nombre del repuesto: \").capitalize()\n",
        "    try:\n",
        "        cantidad = int(input(f\"Introduce la cantidad de '{repuesto}': \"))\n",
        "        if cantidad < 0:\n",
        "            print(\"La cantidad no puede ser negativa.\")\n",
        "            return\n",
        "    except ValueError:\n",
        "        print(\"Por favor, introduce un número válido.\")\n",
        "        return\n",
        "\n",
        "    if repuesto in inventario:\n",
        "        inventario[repuesto] += cantidad\n",
        "        print(f\"La cantidad de '{repuesto}' ha sido actualizada a {inventario[repuesto]}.\")\n",
        "    else:\n",
        "        inventario[repuesto] = cantidad\n",
        "        print(f\"'{repuesto}' ha sido agregado con una cantidad de {cantidad}.\")"
      ],
      "metadata": {
        "id": "zRPFBhlL8kiV"
      },
      "execution_count": 5,
      "outputs": []
    },
    {
      "cell_type": "markdown",
      "source": [
        "\n",
        "\n",
        "1.   Definimos una funcion para disminuir o eliminar una variable\n",
        "2.   Los if nos ayudan a llevar un control y crear filtros\n",
        "3.   De igual manera usamos el capitalize para llevar un mejor control\n",
        "\n"
      ],
      "metadata": {
        "id": "NpCcon4U-6wd"
      }
    },
    {
      "cell_type": "code",
      "source": [
        "def disminuir_repuesto():\n",
        "    repuesto = input(\"Introduce el nombre del repuesto que deseas disminuir: \").capitalize()\n",
        "\n",
        "    if repuesto in inventario:\n",
        "        cantidad_actual = inventario[repuesto]\n",
        "        print(f\"Cantidad actual de '{repuesto}': {cantidad_actual} unidades\")\n",
        "\n",
        "        try:\n",
        "            cantidad_a_disminuir = int(input(f\"Introduce la cantidad a disminuir de '{repuesto}': \"))\n",
        "            if cantidad_a_disminuir < 0:\n",
        "                print(\"La cantidad a disminuir no puede ser negativa.\")\n",
        "                return\n",
        "        except ValueError:\n",
        "            print(\"Por favor, introduce un número válido.\")\n",
        "            return\n",
        "\n",
        "        if cantidad_a_disminuir >= cantidad_actual:\n",
        "            print(f\"Se ha disminuido toda la cantidad de '{repuesto}'. '{repuesto}' será eliminado del inventario.\")\n",
        "            del inventario[repuesto]  # Elimina el repuesto si la cantidad se reduce a cero o menos\n",
        "        else:\n",
        "            inventario[repuesto] -= cantidad_a_disminuir\n",
        "            print(f\"Se ha disminuido {cantidad_a_disminuir} unidades de '{repuesto}'. Ahora quedan {inventario[repuesto]} en inventario.\")\n",
        "    else:\n",
        "        print(f\"'{repuesto}' no está en el inventario.\")\n"
      ],
      "metadata": {
        "id": "Pl-Qught8pIJ"
      },
      "execution_count": 6,
      "outputs": []
    },
    {
      "cell_type": "markdown",
      "source": [
        "1.   Definimos una funcion para imprimir todas las variables que tenemos"
      ],
      "metadata": {
        "id": "MH_tzOZ2_mAi"
      }
    },
    {
      "cell_type": "code",
      "source": [
        "def consultar_repuestos():\n",
        "    if inventario:\n",
        "        print(\"\\n--- Inventario Actual ---\")\n",
        "        for repuesto, cantidad in inventario.items():\n",
        "            print(f\"{repuesto}: {cantidad} unidades\")\n",
        "    else:\n",
        "        print(\"El inventario está vacío.\")"
      ],
      "metadata": {
        "id": "bMSfsT598sFl"
      },
      "execution_count": 7,
      "outputs": []
    },
    {
      "cell_type": "markdown",
      "source": [
        "1.   Usamos de la misma manera capitalize para llevar un control con los nombres\n",
        "2.   Utilizamos if para añadir filtros\n",
        "3.   Si un material esta bajo de lo que queremos nos sugirara comprar"
      ],
      "metadata": {
        "id": "Srh3A3Cb_svR"
      }
    },
    {
      "cell_type": "code",
      "source": [
        "def realizar_compra():\n",
        "    repuesto = input(\"Introduce el nombre del repuesto para realizar la compra: \").capitalize()\n",
        "\n",
        "    if repuesto in inventario:\n",
        "        cantidad_actual = inventario[repuesto]\n",
        "        print(f\"Cantidad actual de '{repuesto}': {cantidad_actual} unidades\")\n",
        "\n",
        "        try:\n",
        "            limite_bajo = int(input(f\"Introduce la cantidad mínima de '{repuesto}' para realizar una compra: \"))\n",
        "            if limite_bajo < 0:\n",
        "                print(\"El límite mínimo no puede ser negativo.\")\n",
        "                return\n",
        "        except ValueError:\n",
        "            print(\"Por favor, introduce un número válido.\")\n",
        "            return\n",
        "\n",
        "        if cantidad_actual < limite_bajo:\n",
        "            try:\n",
        "                cantidad_comprada = int(input(f\"Introduce la cantidad a comprar de '{repuesto}': \"))\n",
        "                if cantidad_comprada < 0:\n",
        "                    print(\"La cantidad a comprar no puede ser negativa.\")\n",
        "                    return\n",
        "            except ValueError:\n",
        "                print(\"Por favor, introduce un número válido.\")\n",
        "                return\n",
        "\n",
        "            inventario[repuesto] += cantidad_comprada\n",
        "            print(f\"Se han comprado {cantidad_comprada} unidades de '{repuesto}'. Ahora hay {inventario[repuesto]} en inventario.\")\n",
        "        else:\n",
        "            print(f\"No es necesario realizar una compra. Hay suficiente cantidad de '{repuesto}' en inventario.\")\n",
        "    else:\n",
        "        print(f\"'{repuesto}' no está en el inventario. Añádelo primero.\")"
      ],
      "metadata": {
        "id": "Bcs3V7hu82Mz"
      },
      "execution_count": 8,
      "outputs": []
    },
    {
      "cell_type": "markdown",
      "source": [
        "1.   Creamos un bucle\n",
        "2.   Llamamos a la funcion de mostrar_menu para que imprima los valores\n",
        "3.   Añadimos if como filtros y a cada uno le asignamos un valor que llame a una funcion predeterminada"
      ],
      "metadata": {
        "id": "o3BXcKC4AK6H"
      }
    },
    {
      "cell_type": "code",
      "source": [
        "# Bucle principal del menú\n",
        "while True:\n",
        "    mostrar_menu()\n",
        "    opcion = input(\"Selecciona una opción: \")\n",
        "\n",
        "    if opcion == \"1\":\n",
        "        agregar_repuesto()\n",
        "    elif opcion == \"2\":\n",
        "        disminuir_repuesto()\n",
        "    elif opcion == \"3\":\n",
        "        consultar_repuestos()\n",
        "    elif opcion == \"4\":\n",
        "        realizar_compra()\n",
        "    elif opcion == \"5\":\n",
        "        print(\"Saliendo del programa. ¡Hasta luego!\")\n",
        "        break\n",
        "    else:\n",
        "        print(\"Opción no válida, por favor intenta de nuevo.\")\n"
      ],
      "metadata": {
        "colab": {
          "base_uri": "https://localhost:8080/"
        },
        "id": "FzGer9gX84YM",
        "outputId": "4e6e2762-b009-42e5-c3cf-702106eb0651"
      },
      "execution_count": 9,
      "outputs": [
        {
          "output_type": "stream",
          "name": "stdout",
          "text": [
            "\n",
            "--- Menú de Inventario del Taller ---\n",
            "1. Agregar/Actualizar repuesto\n",
            "2. Disminuir cantidad de repuesto\n",
            "3. Consultar repuestos\n",
            "4. Realizar compra de repuesto\n",
            "5. Salir\n",
            "Selecciona una opción: 1\n",
            "Introduce el nombre del repuesto: hola\n",
            "Introduce la cantidad de 'Hola': 1\n",
            "'Hola' ha sido agregado con una cantidad de 1.\n",
            "\n",
            "--- Menú de Inventario del Taller ---\n",
            "1. Agregar/Actualizar repuesto\n",
            "2. Disminuir cantidad de repuesto\n",
            "3. Consultar repuestos\n",
            "4. Realizar compra de repuesto\n",
            "5. Salir\n",
            "Selecciona una opción: 3\n",
            "\n",
            "--- Inventario Actual ---\n",
            "Hola: 1 unidades\n",
            "\n",
            "--- Menú de Inventario del Taller ---\n",
            "1. Agregar/Actualizar repuesto\n",
            "2. Disminuir cantidad de repuesto\n",
            "3. Consultar repuestos\n",
            "4. Realizar compra de repuesto\n",
            "5. Salir\n",
            "Selecciona una opción: 5\n",
            "Saliendo del programa. ¡Hasta luego!\n"
          ]
        }
      ]
    },
    {
      "cell_type": "markdown",
      "source": [
        "#Segundo Ejercicio\n",
        "Una empresa de servicios a terceros ofrece proyectos de consultoría y debe llevar el control de horas trabajadas por sus empleados en diferentes proyectos. Crea un programa que calcule las horas totales trabajadas por cada empleado en varios proyectos y su costo total en función de la tarifa por hora."
      ],
      "metadata": {
        "id": "6QrjNAb2Az8i"
      }
    },
    {
      "cell_type": "markdown",
      "source": [
        "1.   Creamos un contenedor donde almacenemos todos datos que vamos a ingresar\n",
        "2.   Definimos un menu para imprimir los print"
      ],
      "metadata": {
        "id": "Qkq-CEfWCnch"
      }
    },
    {
      "cell_type": "code",
      "source": [
        "empleados = {}\n",
        "\n",
        "def mostrar_menu():\n",
        "    print(\"\\n--- Menú de Control de Horas Trabajadas ---\")\n",
        "    print(\"1. Agregar/Actualizar empleado y horas trabajadas\")\n",
        "    print(\"2. Calcular horas totales y costo total\")\n",
        "    print(\"3. Mostrar todos los empleados y proyectos\")\n",
        "    print(\"4. Salir\")"
      ],
      "metadata": {
        "id": "jEEYu4XtBAOp"
      },
      "execution_count": 10,
      "outputs": []
    },
    {
      "cell_type": "markdown",
      "source": [
        "1.  Definimos una funcion para agregar las horas y el empleado, asi mismo como para actualizarlo\n",
        "2.  Usamos la capitalize para llevar un mejor control en los datos\n",
        "3.  Añadimos if para verificar si el empleado que añadimos ya existe o aun no\n",
        "4.  Si existe solo actualizaremos los datos"
      ],
      "metadata": {
        "id": "k_18JFlPC5Bw"
      }
    },
    {
      "cell_type": "code",
      "source": [
        "def agregar_horas():\n",
        "    empleado = input(\"Introduce el nombre del empleado: \").capitalize()\n",
        "    proyecto = input(\"Introduce el nombre del proyecto: \").capitalize()\n",
        "    horas = float(input(f\"Introduce las horas trabajadas en '{proyecto}': \"))\n",
        "    tarifa_hora = float(input(f\"Introduce la tarifa por hora de '{empleado}': \"))\n",
        "\n",
        "    if empleado not in empleados:\n",
        "        empleados[empleado] = {\n",
        "            'tarifa_hora': tarifa_hora,\n",
        "            'proyectos': {}\n",
        "        }\n",
        "\n",
        "    if proyecto in empleados[empleado]['proyectos']:\n",
        "        empleados[empleado]['proyectos'][proyecto] += horas\n",
        "    else:\n",
        "        empleados[empleado]['proyectos'][proyecto] = horas\n",
        "\n",
        "    print(f\"Se han registrado {horas} horas trabajadas en '{proyecto}' para '{empleado}'.\")"
      ],
      "metadata": {
        "id": "uKnLtgJIBBBh"
      },
      "execution_count": 11,
      "outputs": []
    },
    {
      "cell_type": "markdown",
      "source": [
        "1.  Añadimos una funcion para calcular los costos\n",
        "2.  Creamos un if para filtrar si hay empleados con ese nombre o no\n",
        "3. Con el ultimo if imprimimos todos los valores segun correspondan\n",
        "4. En python para mostrar el tipo flotante en una cadena es con .2f\n"
      ],
      "metadata": {
        "id": "6hOP1-PMDVHy"
      }
    },
    {
      "cell_type": "code",
      "source": [
        "def calcular_costos():\n",
        "    if not empleados:\n",
        "        print(\"No hay empleados registrados.\")\n",
        "        return\n",
        "\n",
        "    for empleado, datos in empleados.items():\n",
        "        total_horas = sum(datos['proyectos'].values())\n",
        "        costo_total = total_horas * datos['tarifa_hora']\n",
        "        print(f\"\\nEmpleado: {empleado}\")\n",
        "        print(f\"Horas Totales Trabajadas: {total_horas}\")\n",
        "        print(f\"Costo Total: ${costo_total:.2f}\")"
      ],
      "metadata": {
        "id": "ZTfIaqheBEE5"
      },
      "execution_count": 12,
      "outputs": []
    },
    {
      "cell_type": "markdown",
      "source": [
        "1. Definimos otra funcion para imprimir todos los empleados junto con los valores"
      ],
      "metadata": {
        "id": "ejF1dBnYD-4W"
      }
    },
    {
      "cell_type": "code",
      "source": [
        "def mostrar_empleados():\n",
        "    if not empleados:\n",
        "        print(\"No hay empleados registrados.\")\n",
        "        return\n",
        "\n",
        "    for empleado, datos in empleados.items():\n",
        "        print(f\"\\nEmpleado: {empleado}\")\n",
        "        print(f\"Tarifa por Hora: ${datos['tarifa_hora']:.2f}\")\n",
        "        for proyecto, horas in datos['proyectos'].items():\n",
        "            print(f\"Proyecto: {proyecto}\")\n",
        "            print(f\"Horas Trabajadas: {horas}\")"
      ],
      "metadata": {
        "id": "UvbnWXaqBGCY"
      },
      "execution_count": 21,
      "outputs": []
    },
    {
      "cell_type": "markdown",
      "source": [
        "1. Creamos un bucle para mostrar el menu\n",
        "2. Añadimos if para filtrar y asignar cada opcion y su funcion"
      ],
      "metadata": {
        "id": "X4SEVgTBEDtt"
      }
    },
    {
      "cell_type": "code",
      "source": [
        "while True:\n",
        "    mostrar_menu()\n",
        "    opcion = input(\"Selecciona una opción: \")\n",
        "\n",
        "    if opcion == \"1\":\n",
        "        agregar_horas()\n",
        "    elif opcion == \"2\":\n",
        "        calcular_costos()\n",
        "    elif opcion == \"3\":\n",
        "        mostrar_empleados()\n",
        "    elif opcion == \"4\":\n",
        "        print(\"Saliendo del programa. ¡Hasta luego!\")\n",
        "        break\n",
        "    else:\n",
        "        print(\"Opción no válida, por favor intenta de nuevo.\")"
      ],
      "metadata": {
        "colab": {
          "base_uri": "https://localhost:8080/",
          "height": 1000
        },
        "id": "EWVc_EsCBHht",
        "outputId": "1a8453dd-ac54-4dcf-c308-5bea1345703e"
      },
      "execution_count": 22,
      "outputs": [
        {
          "output_type": "stream",
          "name": "stdout",
          "text": [
            "\n",
            "--- Menú de Control de Horas Trabajadas ---\n",
            "1. Agregar/Actualizar empleado y horas trabajadas\n",
            "2. Calcular horas totales y costo total\n",
            "3. Mostrar todos los empleados y proyectos\n",
            "4. Salir\n",
            "Selecciona una opción: 1\n",
            "Introduce el nombre del empleado: brian\n",
            "Introduce el nombre del proyecto: practica\n",
            "Introduce las horas trabajadas en 'Practica': 10\n",
            "Introduce la tarifa por hora de 'Brian': 100\n",
            "Se han registrado 10.0 horas trabajadas en 'Practica' para 'Brian'.\n",
            "\n",
            "--- Menú de Control de Horas Trabajadas ---\n",
            "1. Agregar/Actualizar empleado y horas trabajadas\n",
            "2. Calcular horas totales y costo total\n",
            "3. Mostrar todos los empleados y proyectos\n",
            "4. Salir\n",
            "Selecciona una opción: 3\n",
            "\n",
            "Empleado: Brian\n",
            "Tarifa por Hora: $100.00\n",
            "Proyecto: Practica\n",
            "Horas Trabajadas: 40.0\n",
            "\n",
            "--- Menú de Control de Horas Trabajadas ---\n",
            "1. Agregar/Actualizar empleado y horas trabajadas\n",
            "2. Calcular horas totales y costo total\n",
            "3. Mostrar todos los empleados y proyectos\n",
            "4. Salir\n",
            "Selecciona una opción: 1\n",
            "Introduce el nombre del empleado: alejandro\n",
            "Introduce el nombre del proyecto: practica\n",
            "Introduce las horas trabajadas en 'Practica': 10\n",
            "Introduce la tarifa por hora de 'Alejandro': 100\n",
            "Se han registrado 10.0 horas trabajadas en 'Practica' para 'Alejandro'.\n",
            "\n",
            "--- Menú de Control de Horas Trabajadas ---\n",
            "1. Agregar/Actualizar empleado y horas trabajadas\n",
            "2. Calcular horas totales y costo total\n",
            "3. Mostrar todos los empleados y proyectos\n",
            "4. Salir\n",
            "Selecciona una opción: 3\n",
            "\n",
            "Empleado: Brian\n",
            "Tarifa por Hora: $100.00\n",
            "Proyecto: Practica\n",
            "Horas Trabajadas: 40.0\n",
            "\n",
            "Empleado: Alejandro\n",
            "Tarifa por Hora: $100.00\n",
            "Proyecto: Practica\n",
            "Horas Trabajadas: 10.0\n",
            "\n",
            "--- Menú de Control de Horas Trabajadas ---\n",
            "1. Agregar/Actualizar empleado y horas trabajadas\n",
            "2. Calcular horas totales y costo total\n",
            "3. Mostrar todos los empleados y proyectos\n",
            "4. Salir\n",
            "Selecciona una opción: 2\n",
            "\n",
            "Empleado: Brian\n",
            "Horas Totales Trabajadas: 40.0\n",
            "Costo Total: $4000.00\n",
            "\n",
            "Empleado: Alejandro\n",
            "Horas Totales Trabajadas: 10.0\n",
            "Costo Total: $1000.00\n",
            "\n",
            "--- Menú de Control de Horas Trabajadas ---\n",
            "1. Agregar/Actualizar empleado y horas trabajadas\n",
            "2. Calcular horas totales y costo total\n",
            "3. Mostrar todos los empleados y proyectos\n",
            "4. Salir\n",
            "Selecciona una opción: 2\n",
            "\n",
            "Empleado: Brian\n",
            "Horas Totales Trabajadas: 40.0\n",
            "Costo Total: $4000.00\n",
            "\n",
            "Empleado: Alejandro\n",
            "Horas Totales Trabajadas: 10.0\n",
            "Costo Total: $1000.00\n",
            "\n",
            "--- Menú de Control de Horas Trabajadas ---\n",
            "1. Agregar/Actualizar empleado y horas trabajadas\n",
            "2. Calcular horas totales y costo total\n",
            "3. Mostrar todos los empleados y proyectos\n",
            "4. Salir\n"
          ]
        },
        {
          "output_type": "error",
          "ename": "KeyboardInterrupt",
          "evalue": "Interrupted by user",
          "traceback": [
            "\u001b[0;31m---------------------------------------------------------------------------\u001b[0m",
            "\u001b[0;31mKeyboardInterrupt\u001b[0m                         Traceback (most recent call last)",
            "\u001b[0;32m<ipython-input-22-2190b1959467>\u001b[0m in \u001b[0;36m<cell line: 1>\u001b[0;34m()\u001b[0m\n\u001b[1;32m      1\u001b[0m \u001b[0;32mwhile\u001b[0m \u001b[0;32mTrue\u001b[0m\u001b[0;34m:\u001b[0m\u001b[0;34m\u001b[0m\u001b[0;34m\u001b[0m\u001b[0m\n\u001b[1;32m      2\u001b[0m     \u001b[0mmostrar_menu\u001b[0m\u001b[0;34m(\u001b[0m\u001b[0;34m)\u001b[0m\u001b[0;34m\u001b[0m\u001b[0;34m\u001b[0m\u001b[0m\n\u001b[0;32m----> 3\u001b[0;31m     \u001b[0mopcion\u001b[0m \u001b[0;34m=\u001b[0m \u001b[0minput\u001b[0m\u001b[0;34m(\u001b[0m\u001b[0;34m\"Selecciona una opción: \"\u001b[0m\u001b[0;34m)\u001b[0m\u001b[0;34m\u001b[0m\u001b[0;34m\u001b[0m\u001b[0m\n\u001b[0m\u001b[1;32m      4\u001b[0m \u001b[0;34m\u001b[0m\u001b[0m\n\u001b[1;32m      5\u001b[0m     \u001b[0;32mif\u001b[0m \u001b[0mopcion\u001b[0m \u001b[0;34m==\u001b[0m \u001b[0;34m\"1\"\u001b[0m\u001b[0;34m:\u001b[0m\u001b[0;34m\u001b[0m\u001b[0;34m\u001b[0m\u001b[0m\n",
            "\u001b[0;32m/usr/local/lib/python3.10/dist-packages/ipykernel/kernelbase.py\u001b[0m in \u001b[0;36mraw_input\u001b[0;34m(self, prompt)\u001b[0m\n\u001b[1;32m    849\u001b[0m                 \u001b[0;34m\"raw_input was called, but this frontend does not support input requests.\"\u001b[0m\u001b[0;34m\u001b[0m\u001b[0;34m\u001b[0m\u001b[0m\n\u001b[1;32m    850\u001b[0m             )\n\u001b[0;32m--> 851\u001b[0;31m         return self._input_request(str(prompt),\n\u001b[0m\u001b[1;32m    852\u001b[0m             \u001b[0mself\u001b[0m\u001b[0;34m.\u001b[0m\u001b[0m_parent_ident\u001b[0m\u001b[0;34m,\u001b[0m\u001b[0;34m\u001b[0m\u001b[0;34m\u001b[0m\u001b[0m\n\u001b[1;32m    853\u001b[0m             \u001b[0mself\u001b[0m\u001b[0;34m.\u001b[0m\u001b[0m_parent_header\u001b[0m\u001b[0;34m,\u001b[0m\u001b[0;34m\u001b[0m\u001b[0;34m\u001b[0m\u001b[0m\n",
            "\u001b[0;32m/usr/local/lib/python3.10/dist-packages/ipykernel/kernelbase.py\u001b[0m in \u001b[0;36m_input_request\u001b[0;34m(self, prompt, ident, parent, password)\u001b[0m\n\u001b[1;32m    893\u001b[0m             \u001b[0;32mexcept\u001b[0m \u001b[0mKeyboardInterrupt\u001b[0m\u001b[0;34m:\u001b[0m\u001b[0;34m\u001b[0m\u001b[0;34m\u001b[0m\u001b[0m\n\u001b[1;32m    894\u001b[0m                 \u001b[0;31m# re-raise KeyboardInterrupt, to truncate traceback\u001b[0m\u001b[0;34m\u001b[0m\u001b[0;34m\u001b[0m\u001b[0m\n\u001b[0;32m--> 895\u001b[0;31m                 \u001b[0;32mraise\u001b[0m \u001b[0mKeyboardInterrupt\u001b[0m\u001b[0;34m(\u001b[0m\u001b[0;34m\"Interrupted by user\"\u001b[0m\u001b[0;34m)\u001b[0m \u001b[0;32mfrom\u001b[0m \u001b[0;32mNone\u001b[0m\u001b[0;34m\u001b[0m\u001b[0;34m\u001b[0m\u001b[0m\n\u001b[0m\u001b[1;32m    896\u001b[0m             \u001b[0;32mexcept\u001b[0m \u001b[0mException\u001b[0m \u001b[0;32mas\u001b[0m \u001b[0me\u001b[0m\u001b[0;34m:\u001b[0m\u001b[0;34m\u001b[0m\u001b[0;34m\u001b[0m\u001b[0m\n\u001b[1;32m    897\u001b[0m                 \u001b[0mself\u001b[0m\u001b[0;34m.\u001b[0m\u001b[0mlog\u001b[0m\u001b[0;34m.\u001b[0m\u001b[0mwarning\u001b[0m\u001b[0;34m(\u001b[0m\u001b[0;34m\"Invalid Message:\"\u001b[0m\u001b[0;34m,\u001b[0m \u001b[0mexc_info\u001b[0m\u001b[0;34m=\u001b[0m\u001b[0;32mTrue\u001b[0m\u001b[0;34m)\u001b[0m\u001b[0;34m\u001b[0m\u001b[0;34m\u001b[0m\u001b[0m\n",
            "\u001b[0;31mKeyboardInterrupt\u001b[0m: Interrupted by user"
          ]
        }
      ]
    }
  ]
}