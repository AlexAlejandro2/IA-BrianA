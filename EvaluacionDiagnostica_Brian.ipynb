{
  "nbformat": 4,
  "nbformat_minor": 0,
  "metadata": {
    "colab": {
      "provenance": [],
      "authorship_tag": "ABX9TyM61h8RZqaPmiszKD5DX8k2",
      "include_colab_link": true
    },
    "kernelspec": {
      "name": "python3",
      "display_name": "Python 3"
    },
    "language_info": {
      "name": "python"
    }
  },
  "cells": [
    {
      "cell_type": "markdown",
      "metadata": {
        "id": "view-in-github",
        "colab_type": "text"
      },
      "source": [
        "<a href=\"https://colab.research.google.com/github/AlexAlejandro2/IA-BrianA/blob/main/EvaluacionDiagnostica_Brian.ipynb\" target=\"_parent\"><img src=\"https://colab.research.google.com/assets/colab-badge.svg\" alt=\"Open In Colab\"/></a>"
      ]
    },
    {
      "cell_type": "markdown",
      "source": [
        "Pregunta 1.- ¿Cómo se declara una lista en python?"
      ],
      "metadata": {
        "id": "V-xiatrhjOXM"
      }
    },
    {
      "cell_type": "code",
      "source": [
        "my_list=[1,2,3]"
      ],
      "metadata": {
        "id": "i1ZgqinYVJmN"
      },
      "execution_count": 8,
      "outputs": []
    },
    {
      "cell_type": "markdown",
      "source": [
        "Pregunta 2.- ¿Qué función se usa para conocer el número de elementos de una lista?\n",
        "\n"
      ],
      "metadata": {
        "id": "FAQFfowOVs2q"
      }
    },
    {
      "cell_type": "code",
      "source": [
        "len(my_list)"
      ],
      "metadata": {
        "colab": {
          "base_uri": "https://localhost:8080/"
        },
        "id": "UgyX0V9QVseo",
        "outputId": "02d316d8-9ed9-4f15-fa32-7b7dfa3b2c4e"
      },
      "execution_count": 9,
      "outputs": [
        {
          "output_type": "execute_result",
          "data": {
            "text/plain": [
              "3"
            ]
          },
          "metadata": {},
          "execution_count": 9
        }
      ]
    },
    {
      "cell_type": "markdown",
      "source": [
        "Pregunta 3.- ¿Qué resultado obtendremos al ejecutar el siguiente código?"
      ],
      "metadata": {
        "id": "gQh3PkzfV-uG"
      }
    },
    {
      "cell_type": "code",
      "source": [
        "a = [1,2,3,4,5]\n",
        "print(a[::-1])"
      ],
      "metadata": {
        "colab": {
          "base_uri": "https://localhost:8080/"
        },
        "id": "f0QydPBlUxEI",
        "outputId": "94d6dccd-33dd-4130-82d3-e950359fa73e"
      },
      "execution_count": 1,
      "outputs": [
        {
          "output_type": "stream",
          "name": "stdout",
          "text": [
            "[5, 4, 3, 2, 1]\n"
          ]
        }
      ]
    },
    {
      "cell_type": "markdown",
      "source": [
        "Pregunta 4.- ¿Cuál es el resultado de la siguiente expresión?"
      ],
      "metadata": {
        "id": "fHqEAubHWMSS"
      }
    },
    {
      "cell_type": "code",
      "source": [
        "print(3*\"5\"+2)"
      ],
      "metadata": {
        "colab": {
          "base_uri": "https://localhost:8080/",
          "height": 141
        },
        "id": "qeZ4Yo8BU_aa",
        "outputId": "9be05ac6-8ed0-47c8-d52a-def75b2b2fac"
      },
      "execution_count": 2,
      "outputs": [
        {
          "output_type": "error",
          "ename": "TypeError",
          "evalue": "can only concatenate str (not \"int\") to str",
          "traceback": [
            "\u001b[0;31m---------------------------------------------------------------------------\u001b[0m",
            "\u001b[0;31mTypeError\u001b[0m                                 Traceback (most recent call last)",
            "\u001b[0;32m<ipython-input-2-ecf93d8422a1>\u001b[0m in \u001b[0;36m<cell line: 1>\u001b[0;34m()\u001b[0m\n\u001b[0;32m----> 1\u001b[0;31m \u001b[0mprint\u001b[0m\u001b[0;34m(\u001b[0m\u001b[0;36m3\u001b[0m\u001b[0;34m*\u001b[0m\u001b[0;34m\"5\"\u001b[0m\u001b[0;34m+\u001b[0m\u001b[0;36m2\u001b[0m\u001b[0;34m)\u001b[0m\u001b[0;34m\u001b[0m\u001b[0;34m\u001b[0m\u001b[0m\n\u001b[0m",
            "\u001b[0;31mTypeError\u001b[0m: can only concatenate str (not \"int\") to str"
          ]
        }
      ]
    },
    {
      "cell_type": "markdown",
      "source": [
        "Pregunta 5.- ¿Qué salida generará el siguiente código?"
      ],
      "metadata": {
        "id": "pQmPy_r8Wtc8"
      }
    },
    {
      "cell_type": "code",
      "source": [
        "def foo(x,y=[]):\n",
        "  y.append(x)\n",
        "  return y\n",
        "\n",
        "print(foo(1))\n",
        "print(foo(2,[]))\n",
        "print(foo(3))"
      ],
      "metadata": {
        "colab": {
          "base_uri": "https://localhost:8080/"
        },
        "id": "29OtKTzIW2bV",
        "outputId": "927b4f91-db97-4750-8482-0d41796dcfe7"
      },
      "execution_count": 18,
      "outputs": [
        {
          "output_type": "stream",
          "name": "stdout",
          "text": [
            "[1]\n",
            "[2]\n",
            "[1, 3]\n"
          ]
        }
      ]
    },
    {
      "cell_type": "markdown",
      "source": [
        "Pregunta 6.- ¿Qué resultado obtendremos al ejecutar el siguiente código?"
      ],
      "metadata": {
        "id": "om74szvEXN_I"
      }
    },
    {
      "cell_type": "code",
      "source": [
        "def multiply_list(numbers, factor):\n",
        "  result = []\n",
        "  for number in numbers:\n",
        "    result.append(number*factor)\n",
        "  return result\n",
        "\n",
        "my_list=[1,2,3]\n",
        "output=multiply_list(my_list, 2)\n",
        "print(output)"
      ],
      "metadata": {
        "colab": {
          "base_uri": "https://localhost:8080/"
        },
        "id": "btwDPHrDXT1p",
        "outputId": "e4ce16cb-6ec6-4414-a0dc-8e71fec6c37e"
      },
      "execution_count": 17,
      "outputs": [
        {
          "output_type": "stream",
          "name": "stdout",
          "text": [
            "[2, 4, 6]\n"
          ]
        }
      ]
    }
  ]
}